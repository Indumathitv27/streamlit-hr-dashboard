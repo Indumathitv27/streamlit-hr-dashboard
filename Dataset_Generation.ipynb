{
  "nbformat": 4,
  "nbformat_minor": 0,
  "metadata": {
    "colab": {
      "provenance": [],
      "authorship_tag": "ABX9TyMIzJLs/eZWO7h23yL1ks+Z",
      "include_colab_link": true
    },
    "kernelspec": {
      "name": "python3",
      "display_name": "Python 3"
    },
    "language_info": {
      "name": "python"
    }
  },
  "cells": [
    {
      "cell_type": "markdown",
      "metadata": {
        "id": "view-in-github",
        "colab_type": "text"
      },
      "source": [
        "<a href=\"https://colab.research.google.com/github/Indumathitv27/DMQL/blob/main/Dataset_Generation.ipynb\" target=\"_parent\"><img src=\"https://colab.research.google.com/assets/colab-badge.svg\" alt=\"Open In Colab\"/></a>"
      ]
    },
    {
      "cell_type": "code",
      "execution_count": 3,
      "metadata": {
        "id": "dGtViaP9vq2H"
      },
      "outputs": [],
      "source": [
        "# Re-import necessary libraries after execution state reset\n",
        "import pandas as pd\n",
        "import random\n",
        "\n",
        "# Load the provided dataset again\n",
        "file_path = \"HR_Employee_Attrition.csv\"\n",
        "df = pd.read_csv(file_path)\n",
        "\n",
        "# Get the number of existing records\n",
        "existing_record_count = len(df)\n",
        "\n",
        "# Determine how many more records are needed to reach 5000+\n",
        "additional_records_needed = max(0, 5000 - existing_record_count + 100)  # Adding a few extra for safety\n",
        "\n",
        "# Generate new synthetic records based on the existing data structure\n",
        "new_records = []\n",
        "\n",
        "for _ in range(additional_records_needed):\n",
        "    new_record = {\n",
        "        \"Age\": random.randint(22, 60),\n",
        "        \"Attrition\": random.choice([\"Yes\", \"No\"]),\n",
        "        \"BusinessTravel\": random.choice([\"Travel_Rarely\", \"Travel_Frequently\", \"Non-Travel\"]),\n",
        "        \"DailyRate\": random.randint(100, 1500),\n",
        "        \"Department\": random.choice([\"Sales\", \"Research & Development\", \"Human Resources\"]),\n",
        "        \"DistanceFromHome\": random.randint(1, 30),\n",
        "        \"Education\": random.randint(1, 5),\n",
        "        \"EducationField\": random.choice([\"Life Sciences\", \"Medical\", \"Marketing\", \"Technical Degree\", \"Human Resources\", \"Other\"]),\n",
        "        \"EmployeeCount\": 1,  # Keeping it constant as per dataset structure\n",
        "        \"EmployeeNumber\": existing_record_count + _ + 1,\n",
        "        \"EnvironmentSatisfaction\": random.randint(1, 4),\n",
        "        \"Gender\": random.choice([\"Male\", \"Female\"]),\n",
        "        \"HourlyRate\": random.randint(30, 100),\n",
        "        \"JobInvolvement\": random.randint(1, 4),\n",
        "        \"JobLevel\": random.randint(1, 5),\n",
        "        \"JobRole\": random.choice([\"Sales Executive\", \"Research Scientist\", \"Laboratory Technician\", \"Manager\", \"Manufacturing Director\", \"Healthcare Representative\"]),\n",
        "        \"JobSatisfaction\": random.randint(1, 4),\n",
        "        \"MaritalStatus\": random.choice([\"Single\", \"Married\", \"Divorced\"]),\n",
        "        \"MonthlyIncome\": random.randint(2000, 20000),\n",
        "        \"MonthlyRate\": random.randint(5000, 25000),\n",
        "        \"NumCompaniesWorked\": random.randint(0, 10),\n",
        "        \"Over18\": \"Y\",  # Keeping it constant\n",
        "        \"OverTime\": random.choice([\"Yes\", \"No\"]),\n",
        "        \"PercentSalaryHike\": random.randint(10, 25),\n",
        "        \"PerformanceRating\": random.randint(1, 4),\n",
        "        \"RelationshipSatisfaction\": random.randint(1, 4),\n",
        "        \"StandardHours\": 80,  # Keeping it constant as per dataset structure\n",
        "        \"StockOptionLevel\": random.randint(0, 3),\n",
        "        \"TotalWorkingYears\": random.randint(1, 40),\n",
        "        \"TrainingTimesLastYear\": random.randint(0, 6),\n",
        "        \"WorkLifeBalance\": random.randint(1, 4),\n",
        "        \"YearsAtCompany\": random.randint(0, 40),\n",
        "        \"YearsInCurrentRole\": random.randint(0, 15),\n",
        "        \"YearsSinceLastPromotion\": random.randint(0, 15),\n",
        "        \"YearsWithCurrManager\": random.randint(0, 20)\n",
        "    }\n",
        "    new_records.append(new_record)\n",
        "\n",
        "# Convert the new records to a DataFrame\n",
        "df_new = pd.DataFrame(new_records)\n",
        "\n",
        "# Combine with the original dataset\n",
        "df_combined = pd.concat([df, df_new], ignore_index=True)\n",
        "\n",
        "# Save to a new CSV file\n",
        "output_file = \"HR_Employee_Attrition_Expanded.csv\"\n",
        "df_combined.to_csv(output_file, index=False)\n"
      ]
    }
  ]
}